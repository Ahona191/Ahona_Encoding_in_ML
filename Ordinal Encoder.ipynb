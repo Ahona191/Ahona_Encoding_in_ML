{
 "cells": [
  {
   "cell_type": "code",
   "execution_count": 1,
   "id": "6775cc39-d906-403d-9f1d-d8d5f8a60736",
   "metadata": {},
   "outputs": [],
   "source": [
    "import pandas as pd \n",
    "from sklearn.preprocessing import OrdinalEncoder "
   ]
  },
  {
   "cell_type": "code",
   "execution_count": 2,
   "id": "a06af5d4-0c04-4e43-82df-bbab829177c5",
   "metadata": {},
   "outputs": [],
   "source": [
    "data=[  \n",
    "    ['good'],['bad'],['excellent'],['average'], \n",
    "    ['good'],['average'],['excellent'],['bad'], \n",
    "    ['average'],['good']\n",
    "]"
   ]
  },
  {
   "cell_type": "code",
   "execution_count": 3,
   "id": "b27ff01e-42b8-4ea5-8ad7-c6e84b1fa1f3",
   "metadata": {},
   "outputs": [
    {
     "data": {
      "text/html": [
       "<div>\n",
       "<style scoped>\n",
       "    .dataframe tbody tr th:only-of-type {\n",
       "        vertical-align: middle;\n",
       "    }\n",
       "\n",
       "    .dataframe tbody tr th {\n",
       "        vertical-align: top;\n",
       "    }\n",
       "\n",
       "    .dataframe thead th {\n",
       "        text-align: right;\n",
       "    }\n",
       "</style>\n",
       "<table border=\"1\" class=\"dataframe\">\n",
       "  <thead>\n",
       "    <tr style=\"text-align: right;\">\n",
       "      <th></th>\n",
       "      <th>reviews</th>\n",
       "    </tr>\n",
       "  </thead>\n",
       "  <tbody>\n",
       "    <tr>\n",
       "      <th>0</th>\n",
       "      <td>good</td>\n",
       "    </tr>\n",
       "    <tr>\n",
       "      <th>1</th>\n",
       "      <td>bad</td>\n",
       "    </tr>\n",
       "    <tr>\n",
       "      <th>2</th>\n",
       "      <td>excellent</td>\n",
       "    </tr>\n",
       "    <tr>\n",
       "      <th>3</th>\n",
       "      <td>average</td>\n",
       "    </tr>\n",
       "    <tr>\n",
       "      <th>4</th>\n",
       "      <td>good</td>\n",
       "    </tr>\n",
       "  </tbody>\n",
       "</table>\n",
       "</div>"
      ],
      "text/plain": [
       "     reviews\n",
       "0       good\n",
       "1        bad\n",
       "2  excellent\n",
       "3    average\n",
       "4       good"
      ]
     },
     "execution_count": 3,
     "metadata": {},
     "output_type": "execute_result"
    }
   ],
   "source": [
    "data=pd.DataFrame(data=data, columns=['reviews']) \n",
    "data.head()"
   ]
  },
  {
   "cell_type": "code",
   "execution_count": 10,
   "id": "03f0797f-0465-4654-a8e8-1d60b7a359bc",
   "metadata": {},
   "outputs": [
    {
     "data": {
      "text/plain": [
       "(10, 1)"
      ]
     },
     "execution_count": 10,
     "metadata": {},
     "output_type": "execute_result"
    }
   ],
   "source": [
    "data.shape"
   ]
  },
  {
   "cell_type": "code",
   "execution_count": 4,
   "id": "af38321b-55dc-4826-a29c-f122291d6a77",
   "metadata": {},
   "outputs": [],
   "source": [
    "categories=[['bad','average','good','excellent']]"
   ]
  },
  {
   "cell_type": "code",
   "execution_count": 5,
   "id": "f1d139be-4939-4154-b132-a8f270e740e0",
   "metadata": {},
   "outputs": [
    {
     "data": {
      "text/plain": [
       "[['bad', 'average', 'good', 'excellent']]"
      ]
     },
     "execution_count": 5,
     "metadata": {},
     "output_type": "execute_result"
    }
   ],
   "source": [
    "categories"
   ]
  },
  {
   "cell_type": "code",
   "execution_count": 14,
   "id": "81b72cef-3567-4afe-9555-b31a6769d86c",
   "metadata": {},
   "outputs": [],
   "source": [
    "encoder=OrdinalEncoder(categories=categories) \n",
    "encoded_data = encoder.fit_transform(data)"
   ]
  },
  {
   "cell_type": "code",
   "execution_count": 15,
   "id": "b072e9ef-2093-4ed5-a379-047894feff40",
   "metadata": {},
   "outputs": [
    {
     "data": {
      "text/plain": [
       "array([[2.],\n",
       "       [0.],\n",
       "       [3.],\n",
       "       [1.],\n",
       "       [2.],\n",
       "       [1.],\n",
       "       [3.],\n",
       "       [0.],\n",
       "       [1.],\n",
       "       [2.]])"
      ]
     },
     "execution_count": 15,
     "metadata": {},
     "output_type": "execute_result"
    }
   ],
   "source": [
    "encoded_data=encoder.fit_transform(data) \n",
    "encoded_data"
   ]
  },
  {
   "cell_type": "code",
   "execution_count": 16,
   "id": "f41401a4-b720-45ad-b218-b20699b801ed",
   "metadata": {},
   "outputs": [
    {
     "data": {
      "text/plain": [
       "array([['good'],\n",
       "       ['bad'],\n",
       "       ['excellent'],\n",
       "       ['average'],\n",
       "       ['good'],\n",
       "       ['average'],\n",
       "       ['excellent'],\n",
       "       ['bad'],\n",
       "       ['average'],\n",
       "       ['good']], dtype=object)"
      ]
     },
     "execution_count": 16,
     "metadata": {},
     "output_type": "execute_result"
    }
   ],
   "source": [
    "decoded_data=encoder.inverse_transform(encoded_data) \n",
    "decoded_data"
   ]
  },
  {
   "cell_type": "code",
   "execution_count": null,
   "id": "6a156c43-95d7-4c71-ad1f-fe7eda2e04d7",
   "metadata": {},
   "outputs": [],
   "source": []
  }
 ],
 "metadata": {
  "kernelspec": {
   "display_name": "Python [conda env:base] *",
   "language": "python",
   "name": "conda-base-py"
  },
  "language_info": {
   "codemirror_mode": {
    "name": "ipython",
    "version": 3
   },
   "file_extension": ".py",
   "mimetype": "text/x-python",
   "name": "python",
   "nbconvert_exporter": "python",
   "pygments_lexer": "ipython3",
   "version": "3.12.7"
  }
 },
 "nbformat": 4,
 "nbformat_minor": 5
}
