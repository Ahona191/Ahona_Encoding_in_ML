{
 "cells": [
  {
   "cell_type": "markdown",
   "id": "47691ec7-883a-4fc5-89e2-c9ec4e2faf8d",
   "metadata": {},
   "source": [
    "# **Label Encoder**"
   ]
  },
  {
   "cell_type": "code",
   "execution_count": 3,
   "id": "9f45fe26-dc20-488e-af94-c6d5fe46f903",
   "metadata": {},
   "outputs": [],
   "source": [
    "classes=['ClassA','ClassB','ClassC','ClassD'] \n",
    "instances=['ClassA','ClassB','ClassC','ClassD','ClassA','ClassB','ClassC','ClassD','ClassA','ClassB']"
   ]
  },
  {
   "cell_type": "code",
   "execution_count": 4,
   "id": "8dfb789f-2da6-4ca9-b65c-620050b6b2be",
   "metadata": {},
   "outputs": [
    {
     "name": "stdout",
     "output_type": "stream",
     "text": [
      "Encoded labels: [0, 1, 2, 3, 0, 1, 2, 3, 0, 1]\n"
     ]
    }
   ],
   "source": [
    "label_to_int={label:index for index, label in enumerate(classes)} \n",
    "encoded_labels=[label_to_int[label] for label in instances] \n",
    "\n",
    "print(\"Encoded labels:\",encoded_labels) "
   ]
  },
  {
   "cell_type": "code",
   "execution_count": 7,
   "id": "d2ddb782-5ab8-497a-975c-cd65ca793601",
   "metadata": {},
   "outputs": [
    {
     "name": "stdout",
     "output_type": "stream",
     "text": [
      "Encoded labels: [0, 1, 2, 3, 0, 1, 2, 3, 0, 1]\n",
      "Decoded labels: ['ClassA', 'ClassB', 'ClassC', 'ClassD', 'ClassA', 'ClassB', 'ClassC', 'ClassD', 'ClassA', 'ClassB']\n"
     ]
    }
   ],
   "source": [
    "int_to_label={index:label for label, index in label_to_int.items()}\n",
    "decoded_labels=[int_to_label[index] for index in encoded_labels] \n",
    "\n",
    "print(\"Encoded labels:\", encoded_labels) \n",
    "print(\"Decoded labels:\", decoded_labels)\n"
   ]
  },
  {
   "cell_type": "markdown",
   "id": "6a1cadb3-3ba3-4ef1-bf89-e83dcd8ce1ed",
   "metadata": {},
   "source": [
    "# **Sklearn-Label Encoder**"
   ]
  },
  {
   "cell_type": "code",
   "execution_count": 8,
   "id": "1dfd9ab8-9667-4e16-8627-cd92b731a0a4",
   "metadata": {},
   "outputs": [],
   "source": [
    "from sklearn.preprocessing import LabelEncoder "
   ]
  },
  {
   "cell_type": "code",
   "execution_count": 9,
   "id": "253e220c-ca03-41df-92bc-79953885e06f",
   "metadata": {},
   "outputs": [
    {
     "name": "stdout",
     "output_type": "stream",
     "text": [
      "Encoded labels: [0 1 2 3 0 1 2 3 0 1]\n"
     ]
    }
   ],
   "source": [
    "label_encoder=LabelEncoder() \n",
    "encoded_labels=label_encoder.fit_transform(instances) \n",
    "\n",
    "print(\"Encoded labels:\",encoded_labels) "
   ]
  },
  {
   "cell_type": "code",
   "execution_count": 10,
   "id": "8307c1d0-0056-4fb4-932e-08b21a143fc4",
   "metadata": {},
   "outputs": [
    {
     "name": "stdout",
     "output_type": "stream",
     "text": [
      "Encoded labels: [0 1 2 3 0 1 2 3 0 1]\n",
      "Original labels: ['ClassA' 'ClassB' 'ClassC' 'ClassD' 'ClassA' 'ClassB' 'ClassC' 'ClassD'\n",
      " 'ClassA' 'ClassB']\n"
     ]
    }
   ],
   "source": [
    "original_labels=label_encoder.inverse_transform(encoded_labels) \n",
    "\n",
    "print(\"Encoded labels:\", encoded_labels) \n",
    "print(\"Original labels:\", original_labels)"
   ]
  },
  {
   "cell_type": "code",
   "execution_count": null,
   "id": "3778321c-b373-4f1d-96f5-f5f78d2b3da2",
   "metadata": {},
   "outputs": [],
   "source": []
  }
 ],
 "metadata": {
  "kernelspec": {
   "display_name": "Python [conda env:base] *",
   "language": "python",
   "name": "conda-base-py"
  },
  "language_info": {
   "codemirror_mode": {
    "name": "ipython",
    "version": 3
   },
   "file_extension": ".py",
   "mimetype": "text/x-python",
   "name": "python",
   "nbconvert_exporter": "python",
   "pygments_lexer": "ipython3",
   "version": "3.12.7"
  }
 },
 "nbformat": 4,
 "nbformat_minor": 5
}
