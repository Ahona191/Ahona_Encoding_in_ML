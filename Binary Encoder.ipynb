{
 "cells": [
  {
   "cell_type": "code",
   "execution_count": 2,
   "id": "57e43e6a-0068-47ad-83c0-2d30e20e7b00",
   "metadata": {},
   "outputs": [
    {
     "name": "stdout",
     "output_type": "stream",
     "text": [
      "Collecting category_encoders\n",
      "  Downloading category_encoders-2.8.1-py3-none-any.whl.metadata (7.9 kB)\n",
      "Requirement already satisfied: numpy>=1.14.0 in f:\\anaconda\\lib\\site-packages (from category_encoders) (1.26.4)\n",
      "Requirement already satisfied: pandas>=1.0.5 in f:\\anaconda\\lib\\site-packages (from category_encoders) (2.2.2)\n",
      "Requirement already satisfied: patsy>=0.5.1 in f:\\anaconda\\lib\\site-packages (from category_encoders) (0.5.6)\n",
      "Collecting scikit-learn>=1.6.0 (from category_encoders)\n",
      "  Downloading scikit_learn-1.6.1-cp312-cp312-win_amd64.whl.metadata (15 kB)\n",
      "Requirement already satisfied: scipy>=1.0.0 in f:\\anaconda\\lib\\site-packages (from category_encoders) (1.13.1)\n",
      "Requirement already satisfied: statsmodels>=0.9.0 in f:\\anaconda\\lib\\site-packages (from category_encoders) (0.14.2)\n",
      "Requirement already satisfied: python-dateutil>=2.8.2 in f:\\anaconda\\lib\\site-packages (from pandas>=1.0.5->category_encoders) (2.9.0.post0)\n",
      "Requirement already satisfied: pytz>=2020.1 in f:\\anaconda\\lib\\site-packages (from pandas>=1.0.5->category_encoders) (2024.1)\n",
      "Requirement already satisfied: tzdata>=2022.7 in f:\\anaconda\\lib\\site-packages (from pandas>=1.0.5->category_encoders) (2023.3)\n",
      "Requirement already satisfied: six in f:\\anaconda\\lib\\site-packages (from patsy>=0.5.1->category_encoders) (1.16.0)\n",
      "Requirement already satisfied: joblib>=1.2.0 in f:\\anaconda\\lib\\site-packages (from scikit-learn>=1.6.0->category_encoders) (1.4.2)\n",
      "Requirement already satisfied: threadpoolctl>=3.1.0 in f:\\anaconda\\lib\\site-packages (from scikit-learn>=1.6.0->category_encoders) (3.5.0)\n",
      "Requirement already satisfied: packaging>=21.3 in f:\\anaconda\\lib\\site-packages (from statsmodels>=0.9.0->category_encoders) (24.1)\n",
      "Downloading category_encoders-2.8.1-py3-none-any.whl (85 kB)\n",
      "Downloading scikit_learn-1.6.1-cp312-cp312-win_amd64.whl (11.1 MB)\n",
      "   ---------------------------------------- 0.0/11.1 MB ? eta -:--:--\n",
      "   ---------------------------------------- 0.0/11.1 MB ? eta -:--:--\n",
      "    --------------------------------------- 0.3/11.1 MB ? eta -:--:--\n",
      "   - -------------------------------------- 0.5/11.1 MB 1.3 MB/s eta 0:00:09\n",
      "   -- ------------------------------------- 0.8/11.1 MB 1.3 MB/s eta 0:00:08\n",
      "   -- ------------------------------------- 0.8/11.1 MB 1.3 MB/s eta 0:00:08\n",
      "   --- ------------------------------------ 1.0/11.1 MB 915.5 kB/s eta 0:00:11\n",
      "   --- ------------------------------------ 1.0/11.1 MB 915.5 kB/s eta 0:00:11\n",
      "   ---- ----------------------------------- 1.3/11.1 MB 828.9 kB/s eta 0:00:12\n",
      "   ---- ----------------------------------- 1.3/11.1 MB 828.9 kB/s eta 0:00:12\n",
      "   ----- ---------------------------------- 1.6/11.1 MB 723.4 kB/s eta 0:00:14\n",
      "   ----- ---------------------------------- 1.6/11.1 MB 723.4 kB/s eta 0:00:14\n",
      "   ----- ---------------------------------- 1.6/11.1 MB 723.4 kB/s eta 0:00:14\n",
      "   ------ --------------------------------- 1.8/11.1 MB 633.2 kB/s eta 0:00:15\n",
      "   ------ --------------------------------- 1.8/11.1 MB 633.2 kB/s eta 0:00:15\n",
      "   ------- -------------------------------- 2.1/11.1 MB 656.1 kB/s eta 0:00:14\n",
      "   ------- -------------------------------- 2.1/11.1 MB 656.1 kB/s eta 0:00:14\n",
      "   -------- ------------------------------- 2.4/11.1 MB 618.6 kB/s eta 0:00:15\n",
      "   -------- ------------------------------- 2.4/11.1 MB 618.6 kB/s eta 0:00:15\n",
      "   -------- ------------------------------- 2.4/11.1 MB 618.6 kB/s eta 0:00:15\n",
      "   --------- ------------------------------ 2.6/11.1 MB 618.9 kB/s eta 0:00:14\n",
      "   ---------- ----------------------------- 2.9/11.1 MB 645.4 kB/s eta 0:00:13\n",
      "   ----------- ---------------------------- 3.1/11.1 MB 676.1 kB/s eta 0:00:12\n",
      "   ----------- ---------------------------- 3.1/11.1 MB 676.1 kB/s eta 0:00:12\n",
      "   ----------- ---------------------------- 3.1/11.1 MB 676.1 kB/s eta 0:00:12\n",
      "   ------------ --------------------------- 3.4/11.1 MB 623.3 kB/s eta 0:00:13\n",
      "   ------------- -------------------------- 3.7/11.1 MB 653.1 kB/s eta 0:00:12\n",
      "   ------------- -------------------------- 3.7/11.1 MB 653.1 kB/s eta 0:00:12\n",
      "   -------------- ------------------------- 3.9/11.1 MB 650.7 kB/s eta 0:00:12\n",
      "   -------------- ------------------------- 3.9/11.1 MB 650.7 kB/s eta 0:00:12\n",
      "   -------------- ------------------------- 3.9/11.1 MB 650.7 kB/s eta 0:00:12\n",
      "   -------------- ------------------------- 3.9/11.1 MB 650.7 kB/s eta 0:00:12\n",
      "   -------------- ------------------------- 3.9/11.1 MB 650.7 kB/s eta 0:00:12\n",
      "   --------------- ------------------------ 4.2/11.1 MB 597.8 kB/s eta 0:00:12\n",
      "   ---------------- ----------------------- 4.5/11.1 MB 608.8 kB/s eta 0:00:11\n",
      "   ---------------- ----------------------- 4.7/11.1 MB 629.6 kB/s eta 0:00:11\n",
      "   ---------------- ----------------------- 4.7/11.1 MB 629.6 kB/s eta 0:00:11\n",
      "   ----------------- ---------------------- 5.0/11.1 MB 634.5 kB/s eta 0:00:10\n",
      "   ------------------- -------------------- 5.5/11.1 MB 669.8 kB/s eta 0:00:09\n",
      "   ------------------- -------------------- 5.5/11.1 MB 669.8 kB/s eta 0:00:09\n",
      "   ------------------- -------------------- 5.5/11.1 MB 669.8 kB/s eta 0:00:09\n",
      "   -------------------- ------------------- 5.8/11.1 MB 662.3 kB/s eta 0:00:09\n",
      "   --------------------- ------------------ 6.0/11.1 MB 666.3 kB/s eta 0:00:08\n",
      "   --------------------- ------------------ 6.0/11.1 MB 666.3 kB/s eta 0:00:08\n",
      "   ---------------------- ----------------- 6.3/11.1 MB 667.6 kB/s eta 0:00:08\n",
      "   ----------------------- ---------------- 6.6/11.1 MB 676.7 kB/s eta 0:00:07\n",
      "   ----------------------- ---------------- 6.6/11.1 MB 676.7 kB/s eta 0:00:07\n",
      "   ----------------------- ---------------- 6.6/11.1 MB 676.7 kB/s eta 0:00:07\n",
      "   ----------------------- ---------------- 6.6/11.1 MB 676.7 kB/s eta 0:00:07\n",
      "   ------------------------ --------------- 6.8/11.1 MB 653.3 kB/s eta 0:00:07\n",
      "   ------------------------- -------------- 7.1/11.1 MB 662.9 kB/s eta 0:00:07\n",
      "   -------------------------- ------------- 7.3/11.1 MB 671.1 kB/s eta 0:00:06\n",
      "   -------------------------- ------------- 7.3/11.1 MB 671.1 kB/s eta 0:00:06\n",
      "   --------------------------- ------------ 7.6/11.1 MB 674.9 kB/s eta 0:00:06\n",
      "   --------------------------- ------------ 7.6/11.1 MB 674.9 kB/s eta 0:00:06\n",
      "   ---------------------------- ----------- 7.9/11.1 MB 670.2 kB/s eta 0:00:05\n",
      "   ---------------------------- ----------- 7.9/11.1 MB 670.2 kB/s eta 0:00:05\n",
      "   ---------------------------- ----------- 7.9/11.1 MB 670.2 kB/s eta 0:00:05\n",
      "   ----------------------------- ---------- 8.1/11.1 MB 647.8 kB/s eta 0:00:05\n",
      "   ------------------------------ --------- 8.4/11.1 MB 660.0 kB/s eta 0:00:05\n",
      "   ------------------------------- -------- 8.7/11.1 MB 674.5 kB/s eta 0:00:04\n",
      "   -------------------------------- ------- 8.9/11.1 MB 684.4 kB/s eta 0:00:04\n",
      "   --------------------------------- ------ 9.2/11.1 MB 693.1 kB/s eta 0:00:03\n",
      "   --------------------------------- ------ 9.4/11.1 MB 701.6 kB/s eta 0:00:03\n",
      "   ---------------------------------- ----- 9.7/11.1 MB 706.4 kB/s eta 0:00:02\n",
      "   ----------------------------------- ---- 10.0/11.1 MB 713.6 kB/s eta 0:00:02\n",
      "   ----------------------------------- ---- 10.0/11.1 MB 713.6 kB/s eta 0:00:02\n",
      "   ----------------------------------- ---- 10.0/11.1 MB 713.6 kB/s eta 0:00:02\n",
      "   ----------------------------------- ---- 10.0/11.1 MB 713.6 kB/s eta 0:00:02\n",
      "   ------------------------------------ --- 10.2/11.1 MB 696.8 kB/s eta 0:00:02\n",
      "   ------------------------------------- -- 10.5/11.1 MB 699.8 kB/s eta 0:00:01\n",
      "   -------------------------------------- - 10.7/11.1 MB 705.7 kB/s eta 0:00:01\n",
      "   ---------------------------------------- 11.1/11.1 MB 720.3 kB/s eta 0:00:00\n",
      "Installing collected packages: scikit-learn, category_encoders\n",
      "  Attempting uninstall: scikit-learn\n",
      "    Found existing installation: scikit-learn 1.5.1\n",
      "    Uninstalling scikit-learn-1.5.1:\n",
      "      Successfully uninstalled scikit-learn-1.5.1\n",
      "Successfully installed category_encoders-2.8.1 scikit-learn-1.6.1\n"
     ]
    }
   ],
   "source": [
    "!pip install category_encoders\n"
   ]
  },
  {
   "cell_type": "code",
   "execution_count": 3,
   "id": "62cf17a7-e383-4f3c-a011-2b1060b885b0",
   "metadata": {},
   "outputs": [],
   "source": [
    "import pandas as pd \n",
    "import category_encoders as ce\n"
   ]
  },
  {
   "cell_type": "code",
   "execution_count": 5,
   "id": "c3bc633a-cb97-47c0-972b-b7e212043270",
   "metadata": {},
   "outputs": [],
   "source": [
    "data={'Category':['A','B','C','A','B','C','A','B','C']} \n",
    "df=pd.DataFrame(data)"
   ]
  },
  {
   "cell_type": "code",
   "execution_count": 6,
   "id": "883b1c67-0973-488c-8866-5134eae3758a",
   "metadata": {},
   "outputs": [
    {
     "data": {
      "text/html": [
       "<div>\n",
       "<style scoped>\n",
       "    .dataframe tbody tr th:only-of-type {\n",
       "        vertical-align: middle;\n",
       "    }\n",
       "\n",
       "    .dataframe tbody tr th {\n",
       "        vertical-align: top;\n",
       "    }\n",
       "\n",
       "    .dataframe thead th {\n",
       "        text-align: right;\n",
       "    }\n",
       "</style>\n",
       "<table border=\"1\" class=\"dataframe\">\n",
       "  <thead>\n",
       "    <tr style=\"text-align: right;\">\n",
       "      <th></th>\n",
       "      <th>Category</th>\n",
       "    </tr>\n",
       "  </thead>\n",
       "  <tbody>\n",
       "    <tr>\n",
       "      <th>0</th>\n",
       "      <td>A</td>\n",
       "    </tr>\n",
       "    <tr>\n",
       "      <th>1</th>\n",
       "      <td>B</td>\n",
       "    </tr>\n",
       "    <tr>\n",
       "      <th>2</th>\n",
       "      <td>C</td>\n",
       "    </tr>\n",
       "    <tr>\n",
       "      <th>3</th>\n",
       "      <td>A</td>\n",
       "    </tr>\n",
       "    <tr>\n",
       "      <th>4</th>\n",
       "      <td>B</td>\n",
       "    </tr>\n",
       "  </tbody>\n",
       "</table>\n",
       "</div>"
      ],
      "text/plain": [
       "  Category\n",
       "0        A\n",
       "1        B\n",
       "2        C\n",
       "3        A\n",
       "4        B"
      ]
     },
     "execution_count": 6,
     "metadata": {},
     "output_type": "execute_result"
    }
   ],
   "source": [
    "df.head()"
   ]
  },
  {
   "cell_type": "code",
   "execution_count": 9,
   "id": "9a21817e-cb05-4553-b2f7-c154ad7a7508",
   "metadata": {},
   "outputs": [
    {
     "data": {
      "text/plain": [
       "(9, 1)"
      ]
     },
     "execution_count": 9,
     "metadata": {},
     "output_type": "execute_result"
    }
   ],
   "source": [
    "df.shape"
   ]
  },
  {
   "cell_type": "code",
   "execution_count": 7,
   "id": "9c260b46-9f0d-4ae6-9d17-ebe6d9f4597f",
   "metadata": {},
   "outputs": [],
   "source": [
    "encoder=ce.BinaryEncoder(cols=['Category'], return_df=True)"
   ]
  },
  {
   "cell_type": "code",
   "execution_count": 8,
   "id": "374eb14f-cc5b-47ae-aca3-9805d76a5e1a",
   "metadata": {},
   "outputs": [
    {
     "data": {
      "text/html": [
       "<div>\n",
       "<style scoped>\n",
       "    .dataframe tbody tr th:only-of-type {\n",
       "        vertical-align: middle;\n",
       "    }\n",
       "\n",
       "    .dataframe tbody tr th {\n",
       "        vertical-align: top;\n",
       "    }\n",
       "\n",
       "    .dataframe thead th {\n",
       "        text-align: right;\n",
       "    }\n",
       "</style>\n",
       "<table border=\"1\" class=\"dataframe\">\n",
       "  <thead>\n",
       "    <tr style=\"text-align: right;\">\n",
       "      <th></th>\n",
       "      <th>Category_0</th>\n",
       "      <th>Category_1</th>\n",
       "    </tr>\n",
       "  </thead>\n",
       "  <tbody>\n",
       "    <tr>\n",
       "      <th>0</th>\n",
       "      <td>0</td>\n",
       "      <td>1</td>\n",
       "    </tr>\n",
       "    <tr>\n",
       "      <th>1</th>\n",
       "      <td>1</td>\n",
       "      <td>0</td>\n",
       "    </tr>\n",
       "    <tr>\n",
       "      <th>2</th>\n",
       "      <td>1</td>\n",
       "      <td>1</td>\n",
       "    </tr>\n",
       "    <tr>\n",
       "      <th>3</th>\n",
       "      <td>0</td>\n",
       "      <td>1</td>\n",
       "    </tr>\n",
       "    <tr>\n",
       "      <th>4</th>\n",
       "      <td>1</td>\n",
       "      <td>0</td>\n",
       "    </tr>\n",
       "    <tr>\n",
       "      <th>5</th>\n",
       "      <td>1</td>\n",
       "      <td>1</td>\n",
       "    </tr>\n",
       "    <tr>\n",
       "      <th>6</th>\n",
       "      <td>0</td>\n",
       "      <td>1</td>\n",
       "    </tr>\n",
       "    <tr>\n",
       "      <th>7</th>\n",
       "      <td>1</td>\n",
       "      <td>0</td>\n",
       "    </tr>\n",
       "    <tr>\n",
       "      <th>8</th>\n",
       "      <td>1</td>\n",
       "      <td>1</td>\n",
       "    </tr>\n",
       "  </tbody>\n",
       "</table>\n",
       "</div>"
      ],
      "text/plain": [
       "   Category_0  Category_1\n",
       "0           0           1\n",
       "1           1           0\n",
       "2           1           1\n",
       "3           0           1\n",
       "4           1           0\n",
       "5           1           1\n",
       "6           0           1\n",
       "7           1           0\n",
       "8           1           1"
      ]
     },
     "execution_count": 8,
     "metadata": {},
     "output_type": "execute_result"
    }
   ],
   "source": [
    "df_binary_encoded=encoder.fit_transform(df) \n",
    "df_binary_encoded"
   ]
  },
  {
   "cell_type": "code",
   "execution_count": null,
   "id": "103cc8fc-350a-4165-b23b-5801844f0193",
   "metadata": {},
   "outputs": [],
   "source": []
  }
 ],
 "metadata": {
  "kernelspec": {
   "display_name": "Python [conda env:base] *",
   "language": "python",
   "name": "conda-base-py"
  },
  "language_info": {
   "codemirror_mode": {
    "name": "ipython",
    "version": 3
   },
   "file_extension": ".py",
   "mimetype": "text/x-python",
   "name": "python",
   "nbconvert_exporter": "python",
   "pygments_lexer": "ipython3",
   "version": "3.12.7"
  }
 },
 "nbformat": 4,
 "nbformat_minor": 5
}
